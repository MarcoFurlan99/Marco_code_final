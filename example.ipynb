{
 "cells": [
  {
   "attachments": {},
   "cell_type": "markdown",
   "metadata": {},
   "source": [
    "# Dataset generation"
   ]
  },
  {
   "attachments": {},
   "cell_type": "markdown",
   "metadata": {},
   "source": [
    "Generate masks and images with white noise, gradient, edges."
   ]
  },
  {
   "cell_type": "code",
   "execution_count": null,
   "metadata": {},
   "outputs": [],
   "source": [
    "from Dataset_generators.dataset_perlin_noise import generate_masks, img_white_noise, img_gradient, img_edges\n",
    "\n",
    "generate_masks('datasets/masks/', 10)\n",
    "img_white_noise('datasets/masks/',\n",
    "                'datasets/white_noise/',\n",
    "                parameters = (-1000,1000000,1000,10))\n",
    "img_gradient(   'datasets/masks/',\n",
    "                'datasets/white_noise/',\n",
    "                parameters = (-1000,1000000,1000,10))\n",
    "img_edges(      'datasets/masks/',\n",
    "                'datasets/white_noise/',\n",
    "                parameters = (-1000,1000000,1000,10))"
   ]
  },
  {
   "attachments": {},
   "cell_type": "markdown",
   "metadata": {},
   "source": [
    "Generate images with triangles and circles"
   ]
  },
  {
   "cell_type": "code",
   "execution_count": null,
   "metadata": {},
   "outputs": [],
   "source": [
    "from Dataset_generators.dataset_triangles_and_circles import triangles_and_circles\n",
    "\n",
    "triangles_and_circles('tmp/', 'tmp2/', 10)"
   ]
  }
 ],
 "metadata": {
  "language_info": {
   "name": "python"
  },
  "orig_nbformat": 4
 },
 "nbformat": 4,
 "nbformat_minor": 2
}
