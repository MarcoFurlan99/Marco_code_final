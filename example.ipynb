{
 "cells": [
  {
   "attachments": {},
   "cell_type": "markdown",
   "metadata": {},
   "source": [
    "# Dataset_generators"
   ]
  },
  {
   "attachments": {},
   "cell_type": "markdown",
   "metadata": {},
   "source": [
    "Generate masks and images with white noise, gradient, edges."
   ]
  },
  {
   "cell_type": "code",
   "execution_count": 15,
   "metadata": {},
   "outputs": [
    {
     "name": "stderr",
     "output_type": "stream",
     "text": [
      "                                      \r"
     ]
    }
   ],
   "source": [
    "from Dataset_generators.dataset_perlin_noise import generate_masks, img_white_noise, img_gradient, img_edges\n",
    "\n",
    "generate_masks('example_datasets/masks/', 10)\n",
    "\n",
    "img_white_noise('example_datasets/masks/',\n",
    "                'example_datasets/white_noise/',\n",
    "                parameters = (100,20,150,20))\n",
    "\n",
    "img_gradient('example_datasets/masks/',\n",
    "             'example_datasets/gradient/')\n",
    "\n",
    "img_edges('example_datasets/masks/',\n",
    "          'example_datasets/edges/')"
   ]
  },
  {
   "attachments": {},
   "cell_type": "markdown",
   "metadata": {},
   "source": [
    "Generate images with triangles and circles"
   ]
  },
  {
   "cell_type": "code",
   "execution_count": 16,
   "metadata": {},
   "outputs": [],
   "source": [
    "from Dataset_generators.dataset_triangles_and_circles import triangles_and_circles\n",
    "\n",
    "triangles_and_circles('example_datasets/tc_images/',\n",
    "                      'example_datasets/tc_masks/',\n",
    "                      10,\n",
    "                      parameters = (150,10,180,10),\n",
    "                      t_or_c = 't')"
   ]
  },
  {
   "attachments": {},
   "cell_type": "markdown",
   "metadata": {},
   "source": [
    "# Functions"
   ]
  },
  {
   "attachments": {},
   "cell_type": "markdown",
   "metadata": {},
   "source": [
    "Folders"
   ]
  },
  {
   "cell_type": "code",
   "execution_count": 17,
   "metadata": {},
   "outputs": [
    {
     "name": "stdout",
     "output_type": "stream",
     "text": [
      "created folder tmp/\n"
     ]
    }
   ],
   "source": [
    "from Functions.functions import create_directories\n",
    "create_directories('tmp/')"
   ]
  },
  {
   "cell_type": "code",
   "execution_count": 21,
   "metadata": {},
   "outputs": [
    {
     "name": "stdout",
     "output_type": "stream",
     "text": [
      "\n",
      "The folder \"tmp/\" was removed!\n",
      "\n"
     ]
    }
   ],
   "source": [
    "from Functions.functions import remove_directory\n",
    "remove_directory('tmp/', ask = False)\n",
    "\n",
    "None"
   ]
  },
  {
   "attachments": {},
   "cell_type": "markdown",
   "metadata": {},
   "source": [
    "IoU"
   ]
  },
  {
   "cell_type": "code",
   "execution_count": 22,
   "metadata": {},
   "outputs": [
    {
     "name": "stdout",
     "output_type": "stream",
     "text": [
      "0.11270983213429256 0.07048408534972848\n"
     ]
    }
   ],
   "source": [
    "from Functions.functions import IoU, avg_IoU\n",
    "\n",
    "iou = IoU('example_datasets/masks/0.png',\n",
    "          'example_datasets/masks/1.png',\n",
    "          value = 255)\n",
    "\n",
    "avg_iou = avg_IoU('example_datasets/masks/',\n",
    "              'example_datasets/tc_masks/',\n",
    "              value = 255)\n",
    "\n",
    "print(iou, avg_iou)"
   ]
  },
  {
   "attachments": {},
   "cell_type": "markdown",
   "metadata": {},
   "source": [
    "Wasserstein/Fréchet distance"
   ]
  },
  {
   "cell_type": "code",
   "execution_count": 85,
   "metadata": {},
   "outputs": [
    {
     "name": "stdout",
     "output_type": "stream",
     "text": [
      "\n",
      "mu1=\n",
      "[0.80397214 0.40440217],\n",
      "\n",
      "sigma1=\n",
      "[[0.88503103 0.73344006]\n",
      " [0.73344006 0.62771718]],\n",
      "\n",
      "mu2=\n",
      "[0.32850568 0.30448268],\n",
      "\n",
      "sigma2=\n",
      "[[0.18786324 0.08266061]\n",
      " [0.08266061 0.0507992 ]],\n",
      "\n",
      "\n",
      "Wasserstein distance = 0.8329497351940645\n",
      "Source-normalized Wasserstein distance = 5.416357545521685\n"
     ]
    }
   ],
   "source": [
    "import numpy as np\n",
    "from Functions.functions import calculate_frechet_distance, calculate_source_normalized_frechet_distance\n",
    "\n",
    "mu1, mu2 = np.random.rand(2), np.random.rand(2)\n",
    "\n",
    "A, B = np.random.rand(2,2), np.random.rand(2,2)\n",
    "sigma1, sigma2 = A.T @ A, B.T @ B # https://stats.stackexchange.com/questions/215497/how-to-create-an-arbitrary-covariance-matrix\n",
    "\n",
    "W = calculate_frechet_distance(mu1, sigma1, mu2, sigma2)\n",
    "snW = calculate_source_normalized_frechet_distance(mu1, sigma1, mu2, sigma2)\n",
    "\n",
    "print(f'''\n",
    "mu1=\\n{mu1},\\n\n",
    "sigma1=\\n{sigma1},\\n\n",
    "mu2=\\n{mu2},\\n\n",
    "sigma2=\\n{sigma2},\\n\n",
    "''')\n",
    "\n",
    "print(f'Wasserstein distance = {W}')\n",
    "print(f'Source-normalized Wasserstein distance = {snW}')"
   ]
  },
  {
   "attachments": {},
   "cell_type": "markdown",
   "metadata": {},
   "source": [
    "Graph"
   ]
  },
  {
   "cell_type": "code",
   "execution_count": 92,
   "metadata": {},
   "outputs": [
    {
     "data": {
      "image/png": "[encoded data removed]",
      "text/plain": [
       "<Figure size 640x480 with 1 Axes>"
      ]
     },
     "metadata": {},
     "output_type": "display_data"
    }
   ],
   "source": [
    "from Functions.functions import graph_2d\n",
    "\n",
    "z = np.array([[1,0.9,0.8],\n",
    "              [0.6,0.5,0.4],\n",
    "              [0.2,0.1,0.0]])\n",
    "\n",
    "graph_2d(z,\n",
    "        # save = \"test.png\",\n",
    "         xlabel = 'x axis',\n",
    "         ylabel = 'y axis',\n",
    "         xyticks = ['a','b','c'],\n",
    "         title = 'title',\n",
    "         show = True\n",
    "         )"
   ]
  }
 ],
 "metadata": {
  "kernelspec": {
   "display_name": "deeplearning",
   "language": "python",
   "name": "python3"
  },
  "language_info": {
   "codemirror_mode": {
    "name": "ipython",
    "version": 3
   },
   "file_extension": ".py",
   "mimetype": "text/x-python",
   "name": "python",
   "nbconvert_exporter": "python",
   "pygments_lexer": "ipython3",
   "version": "3.10.10"
  },
  "orig_nbformat": 4
 },
 "nbformat": 4,
 "nbformat_minor": 2
}
