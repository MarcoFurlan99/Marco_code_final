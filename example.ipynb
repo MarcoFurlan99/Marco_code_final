{
 "cells": [
  {
   "attachments": {},
   "cell_type": "markdown",
   "metadata": {},
   "source": [
    "# Dataset generation"
   ]
  },
  {
   "attachments": {},
   "cell_type": "markdown",
   "metadata": {},
   "source": [
    "Generate masks and images with white noise, gradient, edges."
   ]
  },
  {
   "cell_type": "code",
   "execution_count": 1,
   "metadata": {},
   "outputs": [
    {
     "name": "stderr",
     "output_type": "stream",
     "text": [
      "                                      \r"
     ]
    }
   ],
   "source": [
    "from Dataset_generators.dataset_perlin_noise import generate_masks, img_white_noise, img_gradient, img_edges\n",
    "\n",
    "generate_masks('datasets/masks/', 10)\n",
    "\n",
    "img_white_noise('datasets/masks/',\n",
    "                'datasets/white_noise/',\n",
    "                parameters = (100,20,150,20))\n",
    "\n",
    "img_gradient('datasets/masks/',\n",
    "             'datasets/gradient/')\n",
    "\n",
    "img_edges('datasets/masks/',\n",
    "          'datasets/edges/')"
   ]
  },
  {
   "attachments": {},
   "cell_type": "markdown",
   "metadata": {},
   "source": [
    "Generate images with triangles and circles"
   ]
  },
  {
   "cell_type": "code",
   "execution_count": 5,
   "metadata": {},
   "outputs": [],
   "source": [
    "from Dataset_generators.dataset_triangles_and_circles import triangles_and_circles\n",
    "\n",
    "triangles_and_circles('datasets/tc_masks/',\n",
    "                      'datasets/tc_images/',\n",
    "                      10,\n",
    "                      parameters = (150,10,180,10),\n",
    "                      t_or_c = 't')"
   ]
  },
  {
   "cell_type": "code",
   "execution_count": null,
   "metadata": {},
   "outputs": [],
   "source": []
  }
 ],
 "metadata": {
  "kernelspec": {
   "display_name": "deeplearning",
   "language": "python",
   "name": "python3"
  },
  "language_info": {
   "codemirror_mode": {
    "name": "ipython",
    "version": 3
   },
   "file_extension": ".py",
   "mimetype": "text/x-python",
   "name": "python",
   "nbconvert_exporter": "python",
   "pygments_lexer": "ipython3",
   "version": "3.10.10"
  },
  "orig_nbformat": 4
 },
 "nbformat": 4,
 "nbformat_minor": 2
}
